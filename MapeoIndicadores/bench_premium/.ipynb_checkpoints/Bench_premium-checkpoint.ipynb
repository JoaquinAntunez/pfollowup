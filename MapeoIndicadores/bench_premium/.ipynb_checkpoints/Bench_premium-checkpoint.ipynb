{
 "cells": [
  {
   "cell_type": "markdown",
   "id": "256c90fc",
   "metadata": {},
   "source": [
    "# Mapeo de indicadores\n",
    "### Bench Premium"
   ]
  },
  {
   "cell_type": "markdown",
   "id": "378aa600",
   "metadata": {},
   "source": [
    "### Para cada representación se analiza lo siguiente:"
   ]
  },
  {
   "cell_type": "markdown",
   "id": "86e05590",
   "metadata": {},
   "source": [
    "<div class = 'alert alert-block alert-info'>\n",
    "    <b>Indicadores :</b> Ventas, Entradas, Conversión, Ticket Promedio, Ticket y Artículos\n",
    "    </div>"
   ]
  },
  {
   "cell_type": "markdown",
   "id": "47e0faaa",
   "metadata": {},
   "source": [
    "<div class = 'alert alert-block alert-warning'>\n",
    "    <b>Filtros :</b> País, Región, Ciudad, <b>Indicadores</b>, Comparativo año, Comparativo con industria, !incluir toda la industria! (revisar)<p>\n",
    "    <b>Por semana :</b> Semana, mes, trimestre, semestre, año<p>\n",
    "    <b>Año :</b> 2024, 2023\n",
    "    </div>"
   ]
  },
  {
   "cell_type": "markdown",
   "id": "bca9cc3d",
   "metadata": {
    "tags": []
   },
   "source": [
    "#### <b>Tarjeta / Indicadores</b>"
   ]
  },
  {
   "cell_type": "markdown",
   "id": "38b42706",
   "metadata": {},
   "source": [
    "##### <b>promedio diario indicador :<b/>"
   ]
  },
  {
   "cell_type": "markdown",
   "id": "a66ee05e",
   "metadata": {},
   "source": [
    "*Promedio diario (indicador)* = suma de promedios diarios / numero de días en rango filtrado. "
   ]
  },
  {
   "cell_type": "markdown",
   "id": "ce4f7185",
   "metadata": {},
   "source": [
    "##### <b>Variación :<b/>\n",
    "variación porcentual entre los promedios diarios del holding y de la industria"
   ]
  },
  {
   "cell_type": "markdown",
   "id": "26f0183e",
   "metadata": {},
   "source": [
    "*Variación porcentual* = Promedio diario del holding (-) promedio diario industria dividido por el prom. diario de la industria x 100%"
   ]
  },
  {
   "cell_type": "markdown",
   "id": "c43d134e-634c-4b00-8b6c-89a6322dc946",
   "metadata": {
    "tags": []
   },
   "source": [
    "#### <b>Variación indicador por actor (Gráfico de barra (VENTAS))<b/>"
   ]
  },
  {
   "cell_type": "markdown",
   "id": "5a873d2c-076b-4cee-8463-99d74315b010",
   "metadata": {},
   "source": [
    "*El valor de los indicadores es para cada actor de la industria*"
   ]
  },
  {
   "cell_type": "markdown",
   "id": "258e0423-38b1-452d-8a66-00f6caf3ba48",
   "metadata": {},
   "source": [
    "Los datos del gráfico pueden representar la <b>variación</b> y el <b>promedio</b> del holding vs la industria"
   ]
  },
  {
   "cell_type": "markdown",
   "id": "d36ba409-04b3-42a2-94df-42f900df6f41",
   "metadata": {
    "tags": []
   },
   "source": [
    "##### <b>Promedio por categoría / centro comercial :</b>"
   ]
  },
  {
   "cell_type": "markdown",
   "id": "78a75fb0-d715-4553-a2c8-ebe4e168f02a",
   "metadata": {},
   "source": [
    "Valor promedio del indicador para todas las tiendas de la categoría/centro comercial"
   ]
  },
  {
   "cell_type": "markdown",
   "id": "87848cdb-dd3c-4c33-bef4-a05ddbfdcfd3",
   "metadata": {},
   "source": [
    "*Promedio del indicador* = Suma de los valores del indicador dividido por el numero total de tiendas"
   ]
  },
  {
   "cell_type": "markdown",
   "id": "9b487476-f9d3-44be-b353-16b07dc49cf4",
   "metadata": {},
   "source": [
    "##### <b>Variación por categoria / centro comercial :</b>"
   ]
  },
  {
   "cell_type": "markdown",
   "id": "14b7f26b-0180-448f-9e03-de14f009961c",
   "metadata": {},
   "source": [
    "Variación del indicador entre el periodo seleccionado y el mismo periodo del año <b>gregoriano</b> anterior por categoría/centro comercial"
   ]
  },
  {
   "cell_type": "markdown",
   "id": "dd0ca90b-6004-41cc-be37-05b22b18c2f3",
   "metadata": {},
   "source": [
    "*Variación del indicador* = Valor actual (-) Valor anterior dividido por el valor anterior multiplicado por el 100%"
   ]
  },
  {
   "cell_type": "markdown",
   "id": "2eccd8e7-7abc-4be8-b8a7-2d5595720cd7",
   "metadata": {
    "tags": []
   },
   "source": [
    "#### <b>Gráfico Evolutivo Indicador</b>"
   ]
  },
  {
   "cell_type": "markdown",
   "id": "c0d66c41-f809-484b-b251-8395db02e13f",
   "metadata": {},
   "source": [
    "*El valor de los indicadores a lo largo del tiempo* (diario)"
   ]
  },
  {
   "cell_type": "markdown",
   "id": "9ce70cd2-7dd8-466c-8f6e-64990bc75c58",
   "metadata": {},
   "source": [
    "Los datos representan la <b>variación</b> o el <b>promedio</b> en cuanto los días (fecha)"
   ]
  },
  {
   "cell_type": "markdown",
   "id": "9eed0de5-cbd7-4eb3-b115-aad146a45254",
   "metadata": {},
   "source": [
    "<b>Variación :</b> variación del indicador entre el periodo seleccionado y el mismo periodo del año gregoriano anterior por agrupación (día, semana, año) respecto al periodo seleccionado"
   ]
  },
  {
   "cell_type": "markdown",
   "id": "4e9b680b-64fe-419f-96eb-778a87a72e98",
   "metadata": {},
   "source": [
    "*variación del indicador = Valor actual (-) Valor anterior dividido por el valor anterior multiplicado por el 100%*"
   ]
  },
  {
   "cell_type": "markdown",
   "id": "1a787a56-cd4c-4d18-b0e1-de71d80c2ae4",
   "metadata": {},
   "source": [
    "<b>Promedio por tienda :</b>"
   ]
  },
  {
   "cell_type": "markdown",
   "id": "57a7e1c0-a00c-4cf7-b745-465915838750",
   "metadata": {},
   "source": [
    "*<b>Promedio diario : </b>* es el valor promedio del indicador para todas las tiendas del periodo agrupado (día, semana, mes, año)"
   ]
  },
  {
   "cell_type": "markdown",
   "id": "61488e8b-b6c1-45d0-ae5c-67eab91ececb",
   "metadata": {},
   "source": [
    "<b>*Promedio en otra agrupación :*</b> Es la suma de los valores promedio diario del indicador para todas las tiendas del periodo agrupado (día, semana, mes, año)"
   ]
  },
  {
   "cell_type": "markdown",
   "id": "71ff45cb-ab6f-4784-a808-0fbe9bafcfd3",
   "metadata": {},
   "source": [
    "*Promedio del indicador* = La suma de valores del indicador dividido por el número total de tiendas"
   ]
  },
  {
   "cell_type": "markdown",
   "id": "7a732134-2444-4641-a0dc-adc4aae0d8ed",
   "metadata": {
    "tags": []
   },
   "source": [
    "#### <b>Indicador por categoría</b>"
   ]
  },
  {
   "cell_type": "markdown",
   "id": "97be9c58-eeca-44ee-8b22-6edcd37b7c05",
   "metadata": {},
   "source": [
    "*Se identifica el promedio y variación por indicadores en diferentes catgorias o centros comerciales entre Holding y la industria*"
   ]
  },
  {
   "cell_type": "markdown",
   "id": "d326eb33-a45f-4450-95d1-39a1e1ed026b",
   "metadata": {},
   "source": [
    "##### <b>Promedio por categoría / Centro comercial :</b>"
   ]
  },
  {
   "cell_type": "markdown",
   "id": "c3f2f985-9397-4c81-82a0-cae6a271a2bb",
   "metadata": {},
   "source": [
    "*Valor promedio del indicador para todas las tiendas de la categoría / centro comercial*"
   ]
  },
  {
   "cell_type": "markdown",
   "id": "1b1d8a89-fdc7-46da-852d-dd9c7047664f",
   "metadata": {},
   "source": [
    "Promedio del indicador = la suma de valores del indicador dividido por el número total de tiendas"
   ]
  },
  {
   "cell_type": "markdown",
   "id": "fa2bf82c-52c0-433f-aada-9d71f5260c2a",
   "metadata": {},
   "source": [
    "##### <b>Variación por categoría :</b>"
   ]
  },
  {
   "cell_type": "markdown",
   "id": "a384c624-59ae-46ab-b702-5bdced2d1900",
   "metadata": {},
   "source": [
    "*se identifica la variación del indicador entre el periodo seleccionado y el mismo periodo del año gregoriano anterior por categoría / centro comercial*"
   ]
  },
  {
   "cell_type": "markdown",
   "id": "3e9c7e30-f6c6-4eb8-8b69-b0630a4c2bbf",
   "metadata": {},
   "source": [
    "Variación del inicador = valor actual (-) Valor anterior dividido por el valor anterior multiplicado por el 100%"
   ]
  },
  {
   "cell_type": "markdown",
   "id": "5c58328c-b6c6-418d-b436-b14c93d9e102",
   "metadata": {},
   "source": [
    "#### <b>Gráfica de Participación en indicador por categoría</b>"
   ]
  },
  {
   "cell_type": "markdown",
   "id": "6bc4f289-5002-47fd-9d70-7092e614c51e",
   "metadata": {},
   "source": [
    "Participación Indicadores calculados por actor = Valor del indicador para el actor dividido por el valor total del indicador <b>(Esta formula para indicadores que no son calculados (base))</b>"
   ]
  },
  {
   "cell_type": "markdown",
   "id": "8b52cc66-5a01-46a8-980c-eb9e0829d8b2",
   "metadata": {},
   "source": [
    "hola vani!"
   ]
  },
  {
   "cell_type": "markdown",
   "id": "8a5a7d62-c504-4897-9e10-4eda41442186",
   "metadata": {},
   "source": [
    "hola hola hola"
   ]
  },
  {
   "cell_type": "code",
   "execution_count": null,
   "id": "35f3da11-4d93-410a-ab04-c688023aee35",
   "metadata": {},
   "outputs": [],
   "source": []
  }
 ],
 "metadata": {
  "kernelspec": {
   "display_name": "Python 3 (ipykernel)",
   "language": "python",
   "name": "python3"
  },
  "language_info": {
   "codemirror_mode": {
    "name": "ipython",
    "version": 3
   },
   "file_extension": ".py",
   "mimetype": "text/x-python",
   "name": "python",
   "nbconvert_exporter": "python",
   "pygments_lexer": "ipython3",
   "version": "3.10.6"
  },
  "toc": {
   "base_numbering": 1,
   "nav_menu": {},
   "number_sections": true,
   "sideBar": true,
   "skip_h1_title": false,
   "title_cell": "Table of Contents",
   "title_sidebar": "Contents",
   "toc_cell": false,
   "toc_position": {},
   "toc_section_display": true,
   "toc_window_display": false
  }
 },
 "nbformat": 4,
 "nbformat_minor": 5
}
