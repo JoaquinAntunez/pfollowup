{
 "cells": [
  {
   "cell_type": "markdown",
   "id": "256c90fc",
   "metadata": {},
   "source": [
    "# Mapeo de indicadores\n",
    "### Bench Premium"
   ]
  },
  {
   "cell_type": "markdown",
   "id": "86e05590",
   "metadata": {},
   "source": [
    "<div class = 'alert alert-block alert-info'>\n",
    "    <b>Indicadores :</b> Ventas, Entradas, Conversión, Ticket Promedio, Ticket y Artículos\n",
    "    </div>"
   ]
  },
  {
   "cell_type": "markdown",
   "id": "47e0faaa",
   "metadata": {},
   "source": [
    "<div class = 'alert alert-block alert-warning'>\n",
    "    <b>Filtros :</b> País, Región, Ciudad, <b>Indicadores</b>, Comparativo año, Comparativo con industria, !incluir toda la industria! (revisar)<p>\n",
    "    <b>Por semana :</b> Semana, mes, trimestre, semestre, año<p>\n",
    "    <b>Año :</b> 2024, 2023\n",
    "    </div>"
   ]
  },
  {
   "cell_type": "markdown",
   "id": "c305bb13-6703-4207-8218-92ee1424a45d",
   "metadata": {
    "tags": []
   },
   "source": [
    "### FUNCIONES"
   ]
  },
  {
   "cell_type": "markdown",
   "id": "bca9cc3d",
   "metadata": {
    "tags": []
   },
   "source": [
    "#### <b>Tarjeta / Indicadores</b>"
   ]
  },
  {
   "cell_type": "markdown",
   "id": "38b42706",
   "metadata": {},
   "source": [
    "##### <b>promedio diario indicador :<b/>"
   ]
  },
  {
   "cell_type": "markdown",
   "id": "a66ee05e",
   "metadata": {},
   "source": [
    "*Promedio diario (indicador)* = suma de promedios diarios / numero de días en rango filtrado. "
   ]
  },
  {
   "cell_type": "markdown",
   "id": "ce4f7185",
   "metadata": {},
   "source": [
    "##### <b>Variación :<b/>\n",
    "variación porcentual entre los promedios diarios del holding y de la industria"
   ]
  },
  {
   "cell_type": "markdown",
   "id": "26f0183e",
   "metadata": {},
   "source": [
    "*Variación porcentual* = Promedio diario del holding (-) promedio diario industria dividido por el prom. diario de la industria x 100%"
   ]
  },
  {
   "cell_type": "markdown",
   "id": "c43d134e-634c-4b00-8b6c-89a6322dc946",
   "metadata": {
    "tags": []
   },
   "source": [
    "#### <b>Variación indicador por actor (Gráfico de barra (VENTAS))<b/>"
   ]
  },
  {
   "cell_type": "markdown",
   "id": "5a873d2c-076b-4cee-8463-99d74315b010",
   "metadata": {},
   "source": [
    "*El valor de los indicadores es para cada actor de la industria*"
   ]
  },
  {
   "cell_type": "markdown",
   "id": "258e0423-38b1-452d-8a66-00f6caf3ba48",
   "metadata": {},
   "source": [
    "Los datos del gráfico pueden representar la <b>variación</b> y el <b>promedio</b> del holding vs la industria"
   ]
  },
  {
   "cell_type": "markdown",
   "id": "d36ba409-04b3-42a2-94df-42f900df6f41",
   "metadata": {
    "tags": []
   },
   "source": [
    "##### <b>Promedio por categoría / centro comercial :</b>"
   ]
  },
  {
   "cell_type": "markdown",
   "id": "78a75fb0-d715-4553-a2c8-ebe4e168f02a",
   "metadata": {},
   "source": [
    "Valor promedio del indicador para todas las tiendas de la categoría/centro comercial"
   ]
  },
  {
   "cell_type": "markdown",
   "id": "87848cdb-dd3c-4c33-bef4-a05ddbfdcfd3",
   "metadata": {},
   "source": [
    "*Promedio del indicador* = Suma de los valores del indicador dividido por el numero total de tiendas"
   ]
  },
  {
   "cell_type": "markdown",
   "id": "9b487476-f9d3-44be-b353-16b07dc49cf4",
   "metadata": {},
   "source": [
    "##### <b>Variación por categoria / centro comercial :</b>"
   ]
  },
  {
   "cell_type": "markdown",
   "id": "14b7f26b-0180-448f-9e03-de14f009961c",
   "metadata": {},
   "source": [
    "Variación del indicador entre el periodo seleccionado y el mismo periodo del año <b>gregoriano</b> anterior por categoría/centro comercial"
   ]
  },
  {
   "cell_type": "markdown",
   "id": "dd0ca90b-6004-41cc-be37-05b22b18c2f3",
   "metadata": {},
   "source": [
    "*Variación del indicador* = Valor actual (-) Valor anterior dividido por el valor anterior multiplicado por el 100%"
   ]
  },
  {
   "cell_type": "markdown",
   "id": "2eccd8e7-7abc-4be8-b8a7-2d5595720cd7",
   "metadata": {
    "tags": []
   },
   "source": [
    "#### <b>Gráfico Evolutivo Indicador</b>"
   ]
  },
  {
   "cell_type": "markdown",
   "id": "c0d66c41-f809-484b-b251-8395db02e13f",
   "metadata": {},
   "source": [
    "*El valor de los indicadores a lo largo del tiempo* (diario)"
   ]
  },
  {
   "cell_type": "markdown",
   "id": "9ce70cd2-7dd8-466c-8f6e-64990bc75c58",
   "metadata": {},
   "source": [
    "Los datos representan la <b>variación</b> o el <b>promedio</b> en cuanto los días (fecha)"
   ]
  },
  {
   "cell_type": "markdown",
   "id": "9eed0de5-cbd7-4eb3-b115-aad146a45254",
   "metadata": {},
   "source": [
    "<b>Variación :</b> variación del indicador entre el periodo seleccionado y el mismo periodo del año gregoriano anterior por agrupación (día, semana, año) respecto al periodo seleccionado"
   ]
  },
  {
   "cell_type": "markdown",
   "id": "4e9b680b-64fe-419f-96eb-778a87a72e98",
   "metadata": {},
   "source": [
    "*variación del indicador = Valor actual (-) Valor anterior dividido por el valor anterior multiplicado por el 100%*"
   ]
  },
  {
   "cell_type": "markdown",
   "id": "1a787a56-cd4c-4d18-b0e1-de71d80c2ae4",
   "metadata": {},
   "source": [
    "<b>Promedio por tienda :</b>"
   ]
  },
  {
   "cell_type": "markdown",
   "id": "57a7e1c0-a00c-4cf7-b745-465915838750",
   "metadata": {},
   "source": [
    "*<b>Promedio diario : </b>* es el valor promedio del indicador para todas las tiendas del periodo agrupado (día, semana, mes, año)"
   ]
  },
  {
   "cell_type": "markdown",
   "id": "61488e8b-b6c1-45d0-ae5c-67eab91ececb",
   "metadata": {},
   "source": [
    "<b>*Promedio en otra agrupación :*</b> Es la suma de los valores promedio diario del indicador para todas las tiendas del periodo agrupado (día, semana, mes, año)"
   ]
  },
  {
   "cell_type": "markdown",
   "id": "71ff45cb-ab6f-4784-a808-0fbe9bafcfd3",
   "metadata": {},
   "source": [
    "*Promedio del indicador* = La suma de valores del indicador dividido por el número total de tiendas"
   ]
  },
  {
   "cell_type": "markdown",
   "id": "7a732134-2444-4641-a0dc-adc4aae0d8ed",
   "metadata": {
    "tags": []
   },
   "source": [
    "#### <b>Indicador por categoría</b>"
   ]
  },
  {
   "cell_type": "markdown",
   "id": "97be9c58-eeca-44ee-8b22-6edcd37b7c05",
   "metadata": {},
   "source": [
    "*Se identifica el promedio y variación por indicadores en diferentes catgorias o centros comerciales entre Holding y la industria*"
   ]
  },
  {
   "cell_type": "markdown",
   "id": "d326eb33-a45f-4450-95d1-39a1e1ed026b",
   "metadata": {},
   "source": [
    "##### <b>Promedio por categoría / Centro comercial :</b>"
   ]
  },
  {
   "cell_type": "markdown",
   "id": "c3f2f985-9397-4c81-82a0-cae6a271a2bb",
   "metadata": {},
   "source": [
    "*Valor promedio del indicador para todas las tiendas de la categoría / centro comercial*"
   ]
  },
  {
   "cell_type": "markdown",
   "id": "1b1d8a89-fdc7-46da-852d-dd9c7047664f",
   "metadata": {},
   "source": [
    "Promedio del indicador = la suma de valores del indicador dividido por el número total de tiendas"
   ]
  },
  {
   "cell_type": "markdown",
   "id": "fa2bf82c-52c0-433f-aada-9d71f5260c2a",
   "metadata": {},
   "source": [
    "##### <b>Variación por categoría :</b>"
   ]
  },
  {
   "cell_type": "markdown",
   "id": "a384c624-59ae-46ab-b702-5bdced2d1900",
   "metadata": {},
   "source": [
    "*se identifica la variación del indicador entre el periodo seleccionado y el mismo periodo del año gregoriano anterior por categoría / centro comercial*"
   ]
  },
  {
   "cell_type": "markdown",
   "id": "3e9c7e30-f6c6-4eb8-8b69-b0630a4c2bbf",
   "metadata": {},
   "source": [
    "Variación del inicador = valor actual (-) Valor anterior dividido por el valor anterior multiplicado por el 100%"
   ]
  },
  {
   "cell_type": "markdown",
   "id": "5c58328c-b6c6-418d-b436-b14c93d9e102",
   "metadata": {},
   "source": [
    "#### <b>Gráfica de Participación en indicador por categoría</b>"
   ]
  },
  {
   "cell_type": "markdown",
   "id": "d461fbc0-f0ae-40c8-952c-9894d558d7d1",
   "metadata": {},
   "source": [
    "*Cuando se calcula los valores para la gráfica por centros comerciales, cambia la palabra categoría por centro comercial en las formulas*"
   ]
  },
  {
   "cell_type": "markdown",
   "id": "6bc4f289-5002-47fd-9d70-7092e614c51e",
   "metadata": {},
   "source": [
    "Participación Indicadores calculados por actor = Valor del indicador para el actor dividido por el valor total del indicador <b>(Esta formula para indicadores que no son calculados (base))</b>"
   ]
  },
  {
   "cell_type": "markdown",
   "id": "5ee4261d-a9a0-4b8d-8efd-562e822d1cbf",
   "metadata": {},
   "source": [
    "<b>Formula para conversión :</b> "
   ]
  },
  {
   "cell_type": "markdown",
   "id": "b7db5d9a-92df-4896-bfba-2118064effb8",
   "metadata": {},
   "source": [
    "(Tickets de la categoría dividido por las entradas totales) = M"
   ]
  },
  {
   "cell_type": "markdown",
   "id": "8e1686be-f7ec-4b2c-8cd2-48dffdd45117",
   "metadata": {},
   "source": [
    "(Tickets totales dividido por las entradas totales) = T"
   ]
  },
  {
   "cell_type": "markdown",
   "id": "a68c0aa1-977b-4059-9dca-fdbef1f7428a",
   "metadata": {},
   "source": [
    "((100/T)*M)/100 = Conversión ponderada para cada actor"
   ]
  },
  {
   "cell_type": "markdown",
   "id": "8010d095-cdf0-4aa8-8c13-679ea587d6f8",
   "metadata": {},
   "source": [
    "<b>Fórmula para los artículos por ticket :</b>"
   ]
  },
  {
   "cell_type": "markdown",
   "id": "84250fb1-d03a-452d-8e4b-af5fd3b5fe42",
   "metadata": {},
   "source": [
    "Artículos totales / ticket totales = B ---> Artículos por ticket totales"
   ]
  },
  {
   "cell_type": "markdown",
   "id": "a01e49b1-f0dc-455d-b112-4f5c012b42b0",
   "metadata": {},
   "source": [
    "(Artículos del actor / Ticket totales) / B = Artículo por tickets ponderado por actor"
   ]
  },
  {
   "cell_type": "markdown",
   "id": "506a77ad-5e54-4e0b-9438-efc40a291dd7",
   "metadata": {},
   "source": [
    "<b>Fórmula para tasa de captación :</b>"
   ]
  },
  {
   "cell_type": "markdown",
   "id": "34c63c9c-2824-45d4-a6dc-30bab02fa39f",
   "metadata": {},
   "source": [
    "Tráfico externo total / entradas totales = C ---> Tasa de captacieon"
   ]
  },
  {
   "cell_type": "markdown",
   "id": "7fbd7919-8e4d-4373-b673-2948a619bef3",
   "metadata": {},
   "source": [
    "(Entradas del actor / Tráfico externo total) / C = Tasa de captación ponderada por actor"
   ]
  },
  {
   "cell_type": "markdown",
   "id": "99dea184-4d46-4ab4-b156-169f47ab8736",
   "metadata": {},
   "source": [
    "#### <b>Mapa de calor</b>"
   ]
  },
  {
   "cell_type": "markdown",
   "id": "0a44a35b-7b53-468c-af28-023621046302",
   "metadata": {},
   "source": [
    "*Cuando se agrupa, sumamos promedios diarios*"
   ]
  },
  {
   "cell_type": "markdown",
   "id": "3912867f-2eb7-4888-9647-4ac11069ae39",
   "metadata": {},
   "source": [
    "<b>Variación :</b> variación del indicador entre el periodo seleccionado y el mismo periodo del año gregoriano anterior por agrupación (día, semana, mes,año) según el periodo seleccionado, para cada centro comercial / categoria "
   ]
  },
  {
   "cell_type": "markdown",
   "id": "1623bac7-1378-4e0b-a667-5ace7af4a038",
   "metadata": {},
   "source": [
    "<b>VARIACÍON DEL INDICADOR = </b> (valor actual - valor anterior / valor anterior) * 100%"
   ]
  },
  {
   "cell_type": "markdown",
   "id": "215e1ec4-98b6-40b5-99b7-9a42e2256db7",
   "metadata": {},
   "source": [
    "<b>Promedio diario :</b> valor promedio del indicador para todas las tiendas del periodo agrupado (día, semana, mes, año) para cada centro comercial / categoría"
   ]
  },
  {
   "cell_type": "markdown",
   "id": "444a5b19-2733-4044-8472-eb6579b9dd08",
   "metadata": {},
   "source": [
    "<b>Promedio en otra agrupación :</b> Suma de los valores promedio diario del indicador para todas las tiendas del periodo agrupado (día, semana, mes, año) para cada categoría"
   ]
  },
  {
   "cell_type": "markdown",
   "id": "40f8ce3a-7417-47ab-848b-cc2e9f97860f",
   "metadata": {},
   "source": [
    "<b>PROMEDIO DEL INDICADOR = </b> Suma de valores del indicador dividido por el numero total de tiendas"
   ]
  },
  {
   "cell_type": "markdown",
   "id": "9deabfa5-6b35-4545-8763-c2f58f0a1a47",
   "metadata": {},
   "source": [
    "### FILTROS"
   ]
  },
  {
   "cell_type": "markdown",
   "id": "b24a70b4-af15-474c-b63b-bb3fd725254f",
   "metadata": {
    "jp-MarkdownHeadingCollapsed": true,
    "tags": []
   },
   "source": [
    "<b>Entradas</b> Mayor a 10 con Holding ≥ 3"
   ]
  },
  {
   "cell_type": "markdown",
   "id": "f92e816e-7afc-4ac1-b397-66d4c112c2fb",
   "metadata": {},
   "source": [
    "<b>Ventas,Artículos, Tickets, Artículos por ticket, Ticket promedio</b> con venta mayor a 0 y artículos por tickets entre 1 y 20 con Holding ≥ 3"
   ]
  },
  {
   "cell_type": "markdown",
   "id": "ec3e3194-6e0f-4f3c-8b4c-02c684ad9038",
   "metadata": {},
   "source": [
    "<b>Tasa de conversión</b> con (tickets / entradas) x100 entre 2 y 65 y holding ≥ 3"
   ]
  },
  {
   "cell_type": "markdown",
   "id": "3f432b3b-2e8b-4b64-a18c-6d2efef9dc1d",
   "metadata": {},
   "source": [
    "<b>Shopper yield</b> (venta / entradas) mayor a 0 con holding ≥ 3"
   ]
  },
  {
   "cell_type": "markdown",
   "id": "2c98efdf-a660-450a-8fc2-243967318cff",
   "metadata": {},
   "source": [
    "<b>Tasa de captura</b> (entradas / tráfico externo) x100 mayor 0 con holding ≥ 3"
   ]
  },
  {
   "cell_type": "markdown",
   "id": "35b5a79c-bb1d-4722-8e5b-0380f9f29b86",
   "metadata": {},
   "source": [
    "<b>Tráfico externo</b> mayor a 10 con holding ≥ 3"
   ]
  },
  {
   "cell_type": "markdown",
   "id": "b7e36215-388d-43d9-9027-6162cec2be6b",
   "metadata": {},
   "source": [
    "### Dimensiones "
   ]
  },
  {
   "cell_type": "markdown",
   "id": "f3cd4fa8-ecf4-4cc7-8c6b-6ebc40a41593",
   "metadata": {},
   "source": [
    "<div class = 'alert alert-block alert-warning'>\n",
    "    <b>Revisar</b> tablas y campos (MER)\n",
    "    </div>"
   ]
  },
  {
   "cell_type": "markdown",
   "id": "23c234e8-de36-40ae-828b-6a6041014a43",
   "metadata": {},
   "source": [
    "<b>Evolutivo :</b>"
   ]
  },
  {
   "cell_type": "markdown",
   "id": "96a3bd81-7b7b-4598-8b8d-3476a90e64bb",
   "metadata": {},
   "source": [
    "<b>Tabla</b> daily_country_events_facts"
   ]
  },
  {
   "cell_type": "markdown",
   "id": "08cbab1c-aaf7-4936-a52e-26e981bcb524",
   "metadata": {},
   "source": [
    "<b>Campos</b> day_dimension_id y country_id"
   ]
  },
  {
   "cell_type": "markdown",
   "id": "903f5f7b-9674-4855-a8a9-500c82abe81f",
   "metadata": {},
   "source": [
    "_____________"
   ]
  },
  {
   "cell_type": "markdown",
   "id": "7cd9c191-85f2-4b20-bf29-2db8dd616b89",
   "metadata": {},
   "source": [
    "<b>Variación :</b>"
   ]
  },
  {
   "cell_type": "markdown",
   "id": "62725a50-4394-4d32-b326-84e872cbe65e",
   "metadata": {},
   "source": [
    "<b>Tabla</b> daily_category_events_facts"
   ]
  },
  {
   "cell_type": "markdown",
   "id": "6795915f-905c-466c-aae0-e16ac31ce28b",
   "metadata": {},
   "source": [
    "<b>Campos</b> day_dimension_id, country_id, category_id"
   ]
  },
  {
   "cell_type": "markdown",
   "id": "6e60e2e2-a1c4-4aac-abaa-63cbbc6c77ac",
   "metadata": {},
   "source": [
    "___________"
   ]
  },
  {
   "cell_type": "markdown",
   "id": "79a1cdd6-70d7-4eba-8cdb-65f4f28723f1",
   "metadata": {},
   "source": [
    "<b>Tabla</b> daily_mall_events_facts"
   ]
  },
  {
   "cell_type": "markdown",
   "id": "4c011d2a-ebd4-4698-9763-f370512bdeb2",
   "metadata": {},
   "source": [
    "<b>Campos</b> day_dimension_id, country_id, mall_id"
   ]
  },
  {
   "cell_type": "markdown",
   "id": "3c87c430-e779-4ac0-b26f-11966dca3688",
   "metadata": {},
   "source": [
    "________"
   ]
  },
  {
   "cell_type": "markdown",
   "id": "aeca79c2-10cb-488c-8e3d-58b27af9a957",
   "metadata": {},
   "source": [
    "<b>Tabla </b> daily_mall_category_events_facts"
   ]
  },
  {
   "cell_type": "markdown",
   "id": "f0d7ec90-da7c-4e94-bdc9-6e07ebd33393",
   "metadata": {},
   "source": [
    "<b>Campos </b> day_dimension_id, country_id, mall_id, category_id"
   ]
  }
 ],
 "metadata": {
  "kernelspec": {
   "display_name": "Python 3 (ipykernel)",
   "language": "python",
   "name": "python3"
  },
  "language_info": {
   "codemirror_mode": {
    "name": "ipython",
    "version": 3
   },
   "file_extension": ".py",
   "mimetype": "text/x-python",
   "name": "python",
   "nbconvert_exporter": "python",
   "pygments_lexer": "ipython3",
   "version": "3.10.6"
  },
  "toc": {
   "base_numbering": 1,
   "nav_menu": {},
   "number_sections": true,
   "sideBar": true,
   "skip_h1_title": false,
   "title_cell": "Table of Contents",
   "title_sidebar": "Contents",
   "toc_cell": false,
   "toc_position": {},
   "toc_section_display": true,
   "toc_window_display": false
  }
 },
 "nbformat": 4,
 "nbformat_minor": 5
}
