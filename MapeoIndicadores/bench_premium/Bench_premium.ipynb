{
 "cells": [
  {
   "cell_type": "markdown",
   "id": "256c90fc",
   "metadata": {},
   "source": [
    "# Mapeo de indicadores\n",
    "### Bench Premium"
   ]
  },
  {
   "cell_type": "markdown",
   "id": "378aa600",
   "metadata": {},
   "source": [
    "### Para cada representación se analiza lo siguiente:"
   ]
  },
  {
   "cell_type": "markdown",
   "id": "86e05590",
   "metadata": {},
   "source": [
    "<div class = 'alert alert-block alert-info'>\n",
    "    <b>Indicadores :</b> Ventas, Entradas, Conversión, Ticket Promedio, Ticket y Artículos\n",
    "    </div>"
   ]
  },
  {
   "cell_type": "markdown",
   "id": "47e0faaa",
   "metadata": {},
   "source": [
    "<div class = 'alert alert-block alert-warning'>\n",
    "    <b>Filtros :</b> País, Región, Ciudad, <b>Indicadores</b>, Comparativo año, Comparativo con industria, !incluir toda la industria! (revisar)<p>\n",
    "    <b>Por semana :</b> Semana, mes, trimestre, semestre, año<p>\n",
    "    <b>Año :</b> 2024, 2023\n",
    "    </div>"
   ]
  },
  {
   "cell_type": "markdown",
   "id": "bca9cc3d",
   "metadata": {},
   "source": [
    "#### Tarjeta / Ventas"
   ]
  },
  {
   "cell_type": "markdown",
   "id": "38b42706",
   "metadata": {},
   "source": [
    "##### promedio diario indicador :"
   ]
  },
  {
   "cell_type": "markdown",
   "id": "a66ee05e",
   "metadata": {},
   "source": [
    "Promedio diario (indicador) = suma de promedios diarios / numero de días en rango filtrado. "
   ]
  },
  {
   "cell_type": "markdown",
   "id": "ce4f7185",
   "metadata": {},
   "source": [
    "##### Variación :\n",
    "variación porcentual entre los promedios diarios del holding y de la industria"
   ]
  },
  {
   "cell_type": "markdown",
   "id": "26f0183e",
   "metadata": {},
   "source": [
    "Variación porcentual = Promedio diario del holding - promedio diario industria / prom diario de la industria x 100%"
   ]
  }
 ],
 "metadata": {
  "kernelspec": {
   "display_name": "Python 3 (ipykernel)",
   "language": "python",
   "name": "python3"
  },
  "language_info": {
   "codemirror_mode": {
    "name": "ipython",
    "version": 3
   },
   "file_extension": ".py",
   "mimetype": "text/x-python",
   "name": "python",
   "nbconvert_exporter": "python",
   "pygments_lexer": "ipython3",
   "version": "3.10.6"
  },
  "toc": {
   "base_numbering": 1,
   "nav_menu": {},
   "number_sections": true,
   "sideBar": true,
   "skip_h1_title": false,
   "title_cell": "Table of Contents",
   "title_sidebar": "Contents",
   "toc_cell": false,
   "toc_position": {},
   "toc_section_display": true,
   "toc_window_display": false
  }
 },
 "nbformat": 4,
 "nbformat_minor": 5
}
