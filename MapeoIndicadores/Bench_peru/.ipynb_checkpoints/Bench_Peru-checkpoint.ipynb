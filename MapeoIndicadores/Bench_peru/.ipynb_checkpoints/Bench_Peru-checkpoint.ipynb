{
 "cells": [
  {
   "cell_type": "markdown",
   "id": "679de0e1-ad46-4b36-8ad6-7263f53cc477",
   "metadata": {},
   "source": [
    "# Bench Perú (BI)"
   ]
  },
  {
   "cell_type": "markdown",
   "id": "8bf70d13-d724-441e-a16d-fc1fe1636064",
   "metadata": {},
   "source": [
    "### <b>Para cada representacieon se analiza lo siguiente: </b>"
   ]
  },
  {
   "cell_type": "markdown",
   "id": "af5af920-dda4-427b-ad4c-9d8ad1a4bd60",
   "metadata": {},
   "source": [
    "<div class = 'alert alert-block alert-warning'>\n",
    "    <b>Filtros :</b> Cliente, Categoría, Marca 1, Marca 2, Meses anteriores, Date(fecha), Centro comercial, Ciudad.\n",
    "    </div>"
   ]
  },
  {
   "cell_type": "markdown",
   "id": "90befbc5-4973-491f-886f-fa5281163999",
   "metadata": {},
   "source": [
    "<div class = 'alert alert-block alert-info'>\n",
    "    <b>Indicadores :</b> Tráfico, Venta, Conversión, Ticket promedio, Permanencia, Concurrencia, Tickets, Art x Ticket y precio promedio\n",
    "    </div>"
   ]
  },
  {
   "cell_type": "markdown",
   "id": "562ac8de-8682-4614-8a89-4f8d1667acff",
   "metadata": {},
   "source": [
    "### FUNCIONES"
   ]
  },
  {
   "cell_type": "markdown",
   "id": "63be760f-5d5e-4f9d-84ff-6385a9c8921c",
   "metadata": {},
   "source": [
    "##### <b>EVOLUCION YTD</b>"
   ]
  },
  {
   "cell_type": "code",
   "execution_count": null,
   "id": "cd1a579b-74e1-4665-a413-8137e15732b4",
   "metadata": {},
   "outputs": [],
   "source": []
  }
 ],
 "metadata": {
  "kernelspec": {
   "display_name": "Python 3 (ipykernel)",
   "language": "python",
   "name": "python3"
  },
  "language_info": {
   "codemirror_mode": {
    "name": "ipython",
    "version": 3
   },
   "file_extension": ".py",
   "mimetype": "text/x-python",
   "name": "python",
   "nbconvert_exporter": "python",
   "pygments_lexer": "ipython3",
   "version": "3.10.6"
  }
 },
 "nbformat": 4,
 "nbformat_minor": 5
}
